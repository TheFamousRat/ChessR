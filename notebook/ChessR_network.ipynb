{
 "cells": [
  {
   "cell_type": "markdown",
   "metadata": {
    "id": "WoIHiyGp4viI"
   },
   "source": [
    "# ChessR network training"
   ]
  },
  {
   "cell_type": "markdown",
   "metadata": {
    "id": "tMcelpdJ42Ik"
   },
   "source": [
    "## Configuration"
   ]
  },
  {
   "cell_type": "code",
   "execution_count": 5,
   "metadata": {},
   "outputs": [],
   "source": [
    "from notebook.services.config import ConfigManager\n",
    "cm = ConfigManager().update('notebook', {'limit_output': 100})"
   ]
  },
  {
   "cell_type": "markdown",
   "metadata": {
    "id": "rvJx1mE47l4U"
   },
   "source": [
    "### Modules"
   ]
  },
  {
   "cell_type": "code",
   "execution_count": null,
   "metadata": {
    "colab": {
     "base_uri": "https://localhost:8080/"
    },
    "id": "2HYu5hReK8-i",
    "outputId": "7dbf9037-9179-403e-ea1c-2ea97ebb46b3"
   },
   "outputs": [],
   "source": [
    "# Installing necessary modules\n",
    "!pip install --upgrade pip\n",
    "!pip install tqdm\n",
    "!pip install gdown\n",
    "!pip install tensorflow"
   ]
  },
  {
   "cell_type": "code",
   "execution_count": null,
   "metadata": {
    "id": "cVOYjPSQ7lKb"
   },
   "outputs": [],
   "source": [
    "import os\n",
    "import cv2\n",
    "import numpy as np\n",
    "import matplotlib.pyplot as plt\n",
    "import json\n",
    "import re\n",
    "import tqdm"
   ]
  },
  {
   "cell_type": "markdown",
   "metadata": {
    "id": "BBq87SX64zdZ"
   },
   "source": [
    "### Constants"
   ]
  },
  {
   "cell_type": "code",
   "execution_count": 8,
   "metadata": {
    "id": "6xu14CnG0XQq"
   },
   "outputs": [],
   "source": [
    "DATA_URL = \"https://drive.google.com/file/d/192Px9a5_LB_d1fRKK68ID_luRCMRhy3B/view?usp=sharing\"\n",
    "DATA_FILENAME = \"data.zip\"\n",
    "DATA_FOLDER = \"data\"\n",
    "UNWRAPPED_IMAGES_FOLDER = \"data/unwrapped\"\n",
    "CONFIG_FILE_PATH = os.path.join(DATA_FOLDER, \"config.json\")\n",
    "IMAGE_SIZE = 128\n",
    "BATCH_SIZE = 8\n",
    "VAL_PROPORTION = 0.2\n",
    "IMAGE_GROWTH_FACTOR = 0.1"
   ]
  },
  {
   "cell_type": "markdown",
   "metadata": {
    "id": "x2lJZ-HA4qth"
   },
   "source": [
    "### Downloading the data"
   ]
  },
  {
   "cell_type": "code",
   "execution_count": 7,
   "metadata": {
    "colab": {
     "base_uri": "https://localhost:8080/",
     "height": 426
    },
    "id": "RUojhM_A1n7f",
    "outputId": "d43aff70-c39f-4ed0-9478-48f57cd750c9"
   },
   "outputs": [
    {
     "name": "stdout",
     "output_type": "stream",
     "text": [
      "Detected Google Drive link for the data.\n",
      "Downloading...\n",
      "Access denied with the following error:\n",
      "\n",
      " \tCannot retrieve the public link of the file. You may need to change\n",
      "\tthe permission to 'Anyone with the link', or have had many accesses. \n",
      "\n",
      "You may still be able to access the file from the browser:\n",
      "\n",
      "\t https://drive.google.com/uc?id=192Px9a5_LB_d1fRKK68ID_luRCMRhy3B \n",
      "\n"
     ]
    },
    {
     "ename": "Exception",
     "evalue": "Could not download the data from Google Drive. Maybe too many downloads ?",
     "output_type": "error",
     "traceback": [
      "\u001b[0;31m---------------------------------------------------------------------------\u001b[0m",
      "\u001b[0;31mException\u001b[0m                                 Traceback (most recent call last)",
      "\u001b[0;32m/tmp/ipykernel_11902/169067523.py\u001b[0m in \u001b[0;36m<module>\u001b[0;34m\u001b[0m\n\u001b[1;32m     10\u001b[0m     \u001b[0mget_ipython\u001b[0m\u001b[0;34m(\u001b[0m\u001b[0;34m)\u001b[0m\u001b[0;34m.\u001b[0m\u001b[0msystem\u001b[0m\u001b[0;34m(\u001b[0m\u001b[0;34m'gdown --id $dataGdriveId --output $DATA_FILENAME'\u001b[0m\u001b[0;34m)\u001b[0m\u001b[0;34m\u001b[0m\u001b[0;34m\u001b[0m\u001b[0m\n\u001b[1;32m     11\u001b[0m     \u001b[0;32mif\u001b[0m \u001b[0;32mnot\u001b[0m \u001b[0mos\u001b[0m\u001b[0;34m.\u001b[0m\u001b[0mpath\u001b[0m\u001b[0;34m.\u001b[0m\u001b[0mexists\u001b[0m\u001b[0;34m(\u001b[0m\u001b[0mDATA_FILENAME\u001b[0m\u001b[0;34m)\u001b[0m\u001b[0;34m:\u001b[0m\u001b[0;34m\u001b[0m\u001b[0;34m\u001b[0m\u001b[0m\n\u001b[0;32m---> 12\u001b[0;31m       \u001b[0;32mraise\u001b[0m \u001b[0mException\u001b[0m\u001b[0;34m(\u001b[0m\u001b[0;34m\"Could not download the data from Google Drive. Maybe too many downloads ?\"\u001b[0m\u001b[0;34m)\u001b[0m\u001b[0;34m\u001b[0m\u001b[0;34m\u001b[0m\u001b[0m\n\u001b[0m\u001b[1;32m     13\u001b[0m   \u001b[0;32melse\u001b[0m\u001b[0;34m:\u001b[0m\u001b[0;34m\u001b[0m\u001b[0;34m\u001b[0m\u001b[0m\n\u001b[1;32m     14\u001b[0m     \u001b[0;32mraise\u001b[0m \u001b[0mException\u001b[0m\u001b[0;34m(\u001b[0m\u001b[0;34m\"Downloading from sources other than Google Drive not supported yet.\"\u001b[0m\u001b[0;34m)\u001b[0m\u001b[0;34m\u001b[0m\u001b[0;34m\u001b[0m\u001b[0m\n",
      "\u001b[0;31mException\u001b[0m: Could not download the data from Google Drive. Maybe too many downloads ?"
     ]
    }
   ],
   "source": [
    "# Checking that the data has not been downloaded yet\n",
    "if os.path.exists(DATA_FILENAME):\n",
    "  print(\"File already exists, skipping download.\")\n",
    "else:\n",
    "  # Downloading the data\n",
    "  if DATA_URL.split(\"/\")[2] == \"drive.google.com\":\n",
    "    print(\"Detected Google Drive link for the data.\")\n",
    "    dataGdriveId = DATA_URL.split(\"/\")[5]\n",
    "    print(\"Downloading...\")\n",
    "    !gdown --id $dataGdriveId --output $DATA_FILENAME\n",
    "    if not os.path.exists(DATA_FILENAME):\n",
    "      raise Exception(\"Could not download the data from Google Drive. Maybe too many downloads ?\")\n",
    "  else:\n",
    "    raise Exception(\"Downloading from sources other than Google Drive not supported yet.\")\n",
    "    #!curl -o data.zip DATA_URL"
   ]
  },
  {
   "cell_type": "markdown",
   "metadata": {
    "id": "fS97Y-VJ5Fx5"
   },
   "source": [
    "### Unzipping into an appropriate folder"
   ]
  },
  {
   "cell_type": "code",
   "execution_count": null,
   "metadata": {
    "id": "P_eQw3su5FJk"
   },
   "outputs": [],
   "source": [
    "if not os.path.exists(DATA_FOLDER):\n",
    "  os.makedirs(DATA_FOLDER)\n",
    "print(\"Unzipping downloaded data\")\n",
    "!unzip $DATA_FILENAME\n",
    "!rm $DATA_FILENAME"
   ]
  },
  {
   "cell_type": "markdown",
   "metadata": {
    "id": "mi5l2wKsnyUF"
   },
   "source": [
    "## Extracting the renders config"
   ]
  },
  {
   "cell_type": "code",
   "execution_count": null,
   "metadata": {
    "id": "LqNumVUlnx9p"
   },
   "outputs": [],
   "source": [
    "# Loading the types of pieces represented, as well as the cells and their coordinates\n",
    "config = json.load(open(CONFIG_FILE_PATH, \"r\"))\n",
    "piecesTypes = config['piecesTypes']\n",
    "cellsCoordinates = config['cellsCoordinates']\n",
    "cellsNames = list(cellsCoordinates.keys())\n",
    "\n",
    "# Finding the extent of the board\n",
    "minCoords = np.array([np.inf, np.inf])\n",
    "maxCoords = np.array([-np.inf, -np.inf])\n",
    "for cellName in cellsCoordinates:\n",
    "  minCoords = np.minimum(minCoords, cellsCoordinates[cellName])\n",
    "  maxCoords = np.maximum(maxCoords, cellsCoordinates[cellName])\n",
    "\n",
    "boardSize = (maxCoords - minCoords + np.array([1.0, 1.0])).astype(int)\n",
    "\n",
    "marginsSize = np.array([1.0, 1.0]) * IMAGE_SIZE * IMAGE_GROWTH_FACTOR * 0.5\n",
    "cellSize = (IMAGE_SIZE - 2.0 * marginsSize) / boardSize\n",
    "cellRelSize = (1.0 - IMAGE_GROWTH_FACTOR) / boardSize\n",
    "\n",
    "print(\"Cells names : \", cellsNames)\n",
    "print(\"Pieces types : \", piecesTypes)\n",
    "print(\"Board size : \", boardSize) "
   ]
  },
  {
   "cell_type": "markdown",
   "metadata": {
    "id": "s_8qcbRi7b8V"
   },
   "source": [
    "## Extracting the board images"
   ]
  },
  {
   "cell_type": "code",
   "execution_count": null,
   "metadata": {},
   "outputs": [],
   "source": [
    "# IO functions for the images and data\n",
    "def getUnwrappedImagePath(imgNum):\n",
    "    return os.path.join(UNWRAPPED_IMAGES_FOLDER, \"{}_unwrapped.jpg\".format(imgNum))\n",
    "\n",
    "def getImageConfigPath(imgNum):\n",
    "    return os.path.join(DATA_FOLDER, \"{}.json\".format(imgNum))\n",
    "\n",
    "def getRawImagePath(imgNum):\n",
    "    return os.path.join(DATA_FOLDER, \"{}.jpg\".format(imgNum))"
   ]
  },
  {
   "cell_type": "code",
   "execution_count": 25,
   "metadata": {},
   "outputs": [],
   "source": [
    "\n",
    "# Testing the creation of tfrecord objects\n",
    "testDic = {\n",
    "    \"class\" : tf.train.Feature(int64_list=tf.train.Int64List(value=[1])),\n",
    "    \"img\" : tf.train.Feature(bytes_list=tf.train.BytesList(value=[open(\"test/23_A1_bishop_b.jpg\", \"rb\").read()]))\n",
    "}\n",
    "\n",
    "with tf.io.TFRecordWriter(\"test.txt\") as writer:\n",
    "    tfrec = tf.train.Example(features=tf.train.Features(feature=testDic)).SerializeToString()\n",
    "    \n",
    "    writer.write(tfrec)"
   ]
  },
  {
   "cell_type": "code",
   "execution_count": 31,
   "metadata": {},
   "outputs": [
    {
     "data": {
      "image/png": "[encoded data removed]",
      "text/plain": [
       "<Figure size 432x288 with 1 Axes>"
      ]
     },
     "metadata": {
      "needs_background": "light"
     },
     "output_type": "display_data"
    }
   ],
   "source": [
    "# Testing the creation of a dataset consuming TFRecords\n",
    "def decodeTfRecord(record):\n",
    "    features = {\n",
    "        \"class\" : tf.io.FixedLenFeature([], tf.int64),\n",
    "        \"img\" : tf.io.FixedLenFeature([], tf.string)\n",
    "    }\n",
    "    example = tf.io.parse_single_example(record, features)\n",
    "    img = example[\"img\"]\n",
    "    img = tf.image.decode_jpeg(img, channels = 3)\n",
    "    return example[\"class\"], img\n",
    "\n",
    "dataset = tf.data.TFRecordDataset([\"test.txt\"])\n",
    "dataset = dataset.map(decodeTfRecord)\n",
    "\n",
    "imgClass, img = next(iter(dataset))\n",
    "plt.figure()\n",
    "plt.imshow(img)\n",
    "plt.show()"
   ]
  },
  {
   "cell_type": "code",
   "execution_count": null,
   "metadata": {
    "id": "mPWPrXOf6_2U"
   },
   "outputs": [],
   "source": [
    "\"\"\"\n",
    "The images all contain pictures of a chess board at a somewhat overlooking angle. \n",
    "This is not likely to work for the model, which needs data to be in a very similar format.\n",
    "We thus wrap the images into new ones where the corners of the board match the corner of the image, with a given scaling factor\n",
    "\"\"\"\n",
    "\n",
    "if not os.path.exists(UNWRAPPED_IMAGES_FOLDER):\n",
    "  os.makedirs(UNWRAPPED_IMAGES_FOLDER)\n",
    "\n",
    "def getSegmentsIntersection(a1, a2, b1, b2):\n",
    "    \"\"\"\n",
    "    Computes the intersection of two segments : returns the intersection point if it exists, and None otherwise\n",
    "    \"\"\"\n",
    "    a = a2 - a1\n",
    "    b = b2 - b1\n",
    "    o = a1 - b1\n",
    "    aLenSq = np.dot(a, a)\n",
    "    aDotB = np.dot(a, b)\n",
    "    denom = (aLenSq * np.dot(b, b)) - aDotB**2.0\n",
    "\n",
    "    if denom == 0.0:\n",
    "        # The segment are parallel, no unique intersection exists\n",
    "        return None\n",
    "\n",
    "    u = ((aLenSq * np.dot(b, o)) - (aDotB * np.dot(a, o))) / denom\n",
    "\n",
    "    if u < 0.0 or u > 1.0:\n",
    "        # The potential intersection point is not situated on the segment, aborting\n",
    "        return None\n",
    "\n",
    "    t = np.dot(a, u * b - o) / aLenSq\n",
    "    aPoint = a1 + t * a\n",
    "    bPoint = b1 + u * b\n",
    "\n",
    "    return aPoint if (np.linalg.norm(np.round(aPoint - bPoint), 5) == 0.0) else None\n",
    "\n",
    "def unprojectCropFromRelativeCoords(img_, boardCornersRel, outputShape, growthFactor = 0.0):\n",
    "    O = getSegmentsIntersection(boardCornersRel[0], boardCornersRel[3], boardCornersRel[1], boardCornersRel[2])\n",
    "    for i in range(4):\n",
    "        boardCornersRel[i] = growthFactor * (boardCornersRel[i] - O) + boardCornersRel[i]\n",
    "\n",
    "    cornersAbs = np.round(boardCornersRel * (np.array(img.shape)[0:2] - np.array([1.0, 1.0])))\n",
    "\n",
    "    outCoords = np.array([\n",
    "        [outputShape[0]-1, 0.0],\n",
    "        [outputShape[0]-1, outputShape[1]-1],\n",
    "        [0.0, 0.0],\n",
    "        [0.0, outputShape[1]-1],\n",
    "    ])\n",
    "\n",
    "    inCoords = np.float32(cornersAbs)\n",
    "    outCoords = np.float32(outCoords)\n",
    "    M = cv2.getPerspectiveTransform(inCoords, outCoords)\n",
    "\n",
    "    return cv2.warpPerspective(img_, M, outputShape, flags=cv2.INTER_LINEAR)\n",
    "\n",
    "def getCellCenterRel(cellX, cellY):\n",
    "    return np.zeros(2) + (IMAGE_GROWTH_FACTOR * 0.5) + np.array([0.5 + cellX, 0.5 + cellY]) * cellRelSize\n",
    "\n",
    "def getCellExtentsRel(cellX, cellY):\n",
    "    cellCenter = getCellCenterRel(cellX, cellY)\n",
    "    newExtents = np.dot(np.array([-0.5, 0.5]).reshape((2,1)), (cellRelSize + IMAGE_GROWTH_FACTOR).reshape((1,2)))\n",
    "    return cellCenter + newExtents\n",
    "\n",
    "# Getting all the images in the data folder\n",
    "imagesFiles = [file for file in os.listdir(DATA_FOLDER) if re.match(r'\\d*.jpg', file) != None]\n",
    "\n",
    "# Applying the uncropping on every images\n",
    "for imgName in tqdm.tqdm(imagesFiles):\n",
    "    imgNum = re.match(r'(\\d*).jpg', imgName).group(1)\n",
    "    imgPath = getRawImagePath(imgNum)\n",
    "    annotationsPath = getImageConfigPath(imgNum)\n",
    "\n",
    "    annotations = json.load(open(annotationsPath, \"r\"))\n",
    "\n",
    "    img = cv2.imread(imgPath)\n",
    "\n",
    "    # Getting the annotated board corners\n",
    "    cornersRel = np.array(annotations[\"corners\"])\n",
    "    # Adapting them to the coordinate space in cv2\n",
    "    cornersRel = np.column_stack((cornersRel[:,0], 1.0 - cornersRel[:,1]))\n",
    "    \n",
    "    ## Extracting the unwrapped board image \n",
    "    # Setting its size so that \n",
    "    boardImgSize = np.ceil((boardSize * IMAGE_SIZE)/(1.0 + IMAGE_GROWTH_FACTOR * (boardSize - 1.0))).astype(int)\n",
    "    \n",
    "    boardImage = unprojectCropFromRelativeCoords(img, cornersRel, boardImgSize, IMAGE_GROWTH_FACTOR)\n",
    "    \n",
    "    #plt.figure(figsize=(12,8), dpi= 100)\n",
    "    #plt.imshow(boardImage)\n",
    "    #plt.show()\n",
    "    \n",
    "    # Extracting the cell images\n",
    "    for cellName in cellsCoordinates:\n",
    "        cellCoords = cellsCoordinates[cellName]\n",
    "        cellBoundsRel = getCellExtentsRel(cellCoords[0], cellCoords[1])\n",
    "        cellBoundsAbs = np.round(np.multiply(cellBoundsRel.T, boardImgSize)).astype(int)\n",
    "        \n",
    "        pieceImg = boardImage[cellBoundsAbs[0,0]:cellBoundsAbs[0,1],cellBoundsAbs[1,0]:cellBoundsAbs[1,1]]\n",
    "        \n",
    "        pieceType = None if (not (cellName in annotations[\"config\"])) else annotations[\"config\"][cellName]\n",
    "        #print(\"Printing cell {} who represents a {}\".format(cellName, pieceType))\n",
    "        #plt.imshow(pieceImg)\n",
    "        #plt.show()\n",
    "        \n",
    "        cv2.imwrite(os.path.join(\"test\", \"{}_{}_{}.jpg\".format(imgNum, cellName, pieceType)),  pieceImg)\n",
    "    break\n",
    "    #cv2.imwrite(getUnwrappedImagePath(imgNum),  boardImage)\n"
   ]
  },
  {
   "cell_type": "markdown",
   "metadata": {
    "id": "x4V1TJvyFfbc"
   },
   "source": [
    "## Formatting the labels into numpy arrays"
   ]
  },
  {
   "cell_type": "code",
   "execution_count": null,
   "metadata": {
    "id": "NDKovjXPFlrA"
   },
   "outputs": [],
   "source": [
    "def numpyArrayFromLabelFile(labelFilePath):\n",
    "  \"\"\"\n",
    "  Builds a 3D numpy array of 0 and 1 representing the labels for the board\n",
    "  Each column represents a cell and has exactly one 1, whose position corresponds to a certain type of piece\n",
    "  \"\"\"\n",
    "  ret = np.zeros((boardSize[0], boardSize[1], len(piecesTypes)))\n",
    "  labelRawData = json.load(open(labelFilePath, 'r'))\n",
    "  piecesConfig = labelRawData['config']\n",
    "\n",
    "  for cellName in cellsNames:\n",
    "    cellCoordinate = cellsCoordinates[cellName]\n",
    "    if cellName in piecesConfig:\n",
    "      ret[cellCoordinate[0], cellCoordinate[1], piecesTypes.index(piecesConfig[cellName])] = 1\n",
    "    \n",
    "  return ret.astype(np.float32)"
   ]
  },
  {
   "cell_type": "markdown",
   "metadata": {
    "id": "0ZwJpl6b9hnV"
   },
   "source": [
    "## Building the data pipeline"
   ]
  },
  {
   "cell_type": "code",
   "execution_count": 10,
   "metadata": {
    "id": "czAipF4G9p50"
   },
   "outputs": [
    {
     "name": "stderr",
     "output_type": "stream",
     "text": [
      "2022-02-12 16:36:14.086928: I tensorflow/core/platform/cpu_feature_guard.cc:151] This TensorFlow binary is optimized with oneAPI Deep Neural Network Library (oneDNN) to use the following CPU instructions in performance-critical operations:  AVX2 FMA\n",
      "To enable them in other operations, rebuild TensorFlow with the appropriate compiler flags.\n",
      "2022-02-12 16:36:14.108648: I tensorflow/stream_executor/cuda/cuda_gpu_executor.cc:936] successful NUMA node read from SysFS had negative value (-1), but there must be at least one NUMA node, so returning NUMA node zero\n",
      "2022-02-12 16:36:14.114024: I tensorflow/stream_executor/cuda/cuda_gpu_executor.cc:936] successful NUMA node read from SysFS had negative value (-1), but there must be at least one NUMA node, so returning NUMA node zero\n",
      "2022-02-12 16:36:14.114314: I tensorflow/stream_executor/cuda/cuda_gpu_executor.cc:936] successful NUMA node read from SysFS had negative value (-1), but there must be at least one NUMA node, so returning NUMA node zero\n",
      "2022-02-12 16:36:14.472144: I tensorflow/stream_executor/cuda/cuda_gpu_executor.cc:936] successful NUMA node read from SysFS had negative value (-1), but there must be at least one NUMA node, so returning NUMA node zero\n",
      "2022-02-12 16:36:14.472535: I tensorflow/stream_executor/cuda/cuda_gpu_executor.cc:936] successful NUMA node read from SysFS had negative value (-1), but there must be at least one NUMA node, so returning NUMA node zero\n",
      "2022-02-12 16:36:14.472797: I tensorflow/stream_executor/cuda/cuda_gpu_executor.cc:936] successful NUMA node read from SysFS had negative value (-1), but there must be at least one NUMA node, so returning NUMA node zero\n",
      "2022-02-12 16:36:14.473029: I tensorflow/core/common_runtime/gpu/gpu_device.cc:1525] Created device /device:GPU:0 with 3476 MB memory:  -> device: 0, name: NVIDIA GeForce RTX 3060 Laptop GPU, pci bus id: 0000:01:00.0, compute capability: 8.6\n"
     ]
    }
   ],
   "source": [
    "#Loading tensorflow, checking that we have a GPU allocated\n",
    "import tensorflow as tf\n",
    "tf.compat.v1.logging.set_verbosity(tf.compat.v1.logging.ERROR)\n",
    "\n",
    "device_name = tf.test.gpu_device_name()\n",
    "if device_name != '/device:GPU:0':\n",
    "  print(\n",
    "      '\\n\\nThis error most likely means that this notebook is not '\n",
    "      'configured to use a GPU.  Change this in Notebook Settings via the '\n",
    "      'command palette (cmd/ctrl-shift-P) or the Edit menu.\\n\\n')\n",
    "  raise SystemError('GPU device not found')"
   ]
  },
  {
   "cell_type": "code",
   "execution_count": null,
   "metadata": {
    "id": "tJF9eTLsRPIv"
   },
   "outputs": [],
   "source": [
    "def loadImageTensor(imageFilePath):\n",
    "    imgData = tf.io.read_file(imageFilePath)\n",
    "    img = tf.io.decode_jpeg(imgData, channels=3)\n",
    "\n",
    "    img = tf.image.convert_image_dtype(img, tf.float32)\n",
    "\n",
    "    img = tf.image.resize(img, [IMAGE_SIZE, IMAGE_SIZE])\n",
    "\n",
    "    return img\n",
    "\n",
    "def formatData(imageFilePath, label):\n",
    "  return loadImageTensor(imageFilePath), label\n",
    "\n",
    "def makeDataset(imagesFilesPaths, imagesLabels):\n",
    "  \"\"\"\n",
    "  Makes a dataset from the unwrapped images and their labelled data paths, and returns the input image and the labels matrix\n",
    "  \"\"\"\n",
    "  dataset = tf.data.Dataset.from_tensor_slices((inputImagesPath, imagesLabels))\n",
    "\n",
    "  dataset = dataset.map(formatData, num_parallel_calls = tf.data.AUTOTUNE)\n",
    "\n",
    "  dataset = dataset.batch(BATCH_SIZE)\n",
    "  dataset = dataset.prefetch(tf.data.AUTOTUNE)\n",
    "\n",
    "  return dataset\n",
    "\n",
    "## Preparing slices\n",
    "# Storing the paths of images \n",
    "print(\"Preparing data slices\")\n",
    "inputImagesPath = [os.path.join(UNWRAPPED_IMAGES_FOLDER, filename) for filename in os.listdir(UNWRAPPED_IMAGES_FOLDER)]\n",
    "imgsNums = [int(re.search(r'(\\d+).+?(?=\\.)', filename).group(1)) for filename in inputImagesPath]\n",
    "imagesLabels = [numpyArrayFromLabelFile(getImageConfigPath(imgNum)) for imgNum in imgsNums]\n",
    "\n",
    "inputImagesPath = tf.constant(inputImagesPath)\n",
    "imagesLabels = tf.constant(imagesLabels)\n",
    "\n",
    "print(\"Creating datasets\")\n",
    "datasetSize = len(inputImagesPath)\n",
    "sepPoint = int(datasetSize * (1.0 - VAL_PROPORTION) / BATCH_SIZE)\n",
    "\n",
    "fullDs = makeDataset(inputImagesPath, imagesLabels)\n",
    "trainDs = fullDs.take(sepPoint)\n",
    "valDs = fullDs.skip(sepPoint)\n",
    "\n",
    "images, labels = next(iter(trainDs))\n",
    "plt.figure()\n",
    "plt.imshow(images[0])\n",
    "plt.show()\n",
    "\n",
    "images, labels = next(iter(valDs))\n",
    "plt.figure()\n",
    "plt.imshow(images[0])\n",
    "plt.show()\n"
   ]
  },
  {
   "cell_type": "markdown",
   "metadata": {
    "id": "FREr25yS9lLD"
   },
   "source": [
    "## Building the model architecture"
   ]
  },
  {
   "cell_type": "markdown",
   "metadata": {
    "id": "NBnUN9G5o-Ke"
   },
   "source": [
    "### Custom loss"
   ]
  },
  {
   "cell_type": "code",
   "execution_count": null,
   "metadata": {
    "id": "_JVp1QBn9r3i"
   },
   "outputs": [],
   "source": [
    "def labelsPredLoss(y_true, y_pred):\n",
    "  \"\"\"\n",
    "  Custom loss. Returns the minimum difference between the predicted labels and \n",
    "  \"\"\"\n",
    "  loss = tf.reduce_mean(tf.math.squared_difference(tf.experimental.numpy.rot90(y_true, axes=(1,2), k=0), y_pred))\n",
    "  for i in range(1, 4):\n",
    "    diff = tf.reduce_mean(tf.math.squared_difference(tf.experimental.numpy.rot90(y_true, axes=(1,2), k=i), y_pred))\n",
    "    loss = tf.minimum(diff, loss)\n",
    "  \n",
    "  return loss"
   ]
  },
  {
   "cell_type": "markdown",
   "metadata": {
    "id": "gbrH7hMgpAV-"
   },
   "source": [
    "### Model architecture"
   ]
  },
  {
   "cell_type": "code",
   "execution_count": null,
   "metadata": {
    "id": "utgeBHMfpCYg"
   },
   "outputs": [],
   "source": [
    "# Loading pretrained layer\n",
    "#denseNet121 = tf.keras.applications.DenseNet121(include_top=False, input_shape=(IMAGE_SIZE, IMAGE_SIZE, 3), pooling=\"max\")\n",
    "#resnet50 = tf.keras.applications.resnet50.ResNet50(include_top=False, weights='imagenet', input_shape=(IMAGE_SIZE, IMAGE_SIZE, 3), pooling=\"max\")\n",
    "#vgg16 = tf.keras.applications.VGG16(include_top=False, weights=\"imagenet\", input_shape=(IMAGE_SIZE, IMAGE_SIZE, 3),pooling=\"max\")\n",
    "mobileNetv2 = tf.keras.applications.MobileNetV2(input_shape=(IMAGE_SIZE, IMAGE_SIZE, 3),include_top=False,weights=\"imagenet\",pooling=\"max\")\n",
    "pretrainedLayer = mobileNetv2\n",
    "pretrainedLayer.trainable = True"
   ]
  },
  {
   "cell_type": "code",
   "execution_count": null,
   "metadata": {
    "id": "A7PlPvhSujj2"
   },
   "outputs": [],
   "source": [
    "# Early stopping setup\n",
    "callback = tf.keras.callbacks.EarlyStopping(monitor='val_loss', patience=3, min_delta=1e-3)\n",
    "\n",
    "# Model building\n",
    "model = tf.keras.Sequential()\n",
    "\n",
    "model.add(pretrainedLayer)\n",
    "\n",
    "model.add(tf.keras.layers.Flatten())\n",
    "\n",
    "model.add(tf.keras.layers.Dense(512, activation=\"relu\"))\n",
    "model.add(tf.keras.layers.BatchNormalization())\n",
    "model.add(tf.keras.layers.Dropout(0.2))\n",
    "\n",
    "model.add(tf.keras.layers.Dense(8*8*13, name=\"output\", activation=\"sigmoid\"))\n",
    "model.add(tf.keras.layers.Reshape((8,8,13)))\n",
    "\n",
    "model.compile(optimizer = 'adam', \n",
    "              loss = labelsPredLoss)\n",
    "\n",
    "model.summary()"
   ]
  },
  {
   "cell_type": "markdown",
   "metadata": {
    "id": "Y5r-FrhU9n25"
   },
   "source": [
    "## Training"
   ]
  },
  {
   "cell_type": "code",
   "execution_count": null,
   "metadata": {
    "id": "99NfXYf99saf"
   },
   "outputs": [],
   "source": [
    "def trainModel():\n",
    "  history = None\n",
    "  with tf.device(\"/device:GPU:0\"):\n",
    "    history = model.fit(trainDs, epochs = 20, validation_data = valDs, callbacks=[callback])\n",
    "  return history\n",
    "\n",
    "history = None\n",
    "history = trainModel()"
   ]
  },
  {
   "cell_type": "code",
   "execution_count": null,
   "metadata": {
    "id": "LJyBgQupPBrC"
   },
   "outputs": [],
   "source": [
    "plt.plot(np.array(history.history['loss']))\n",
    "plt.plot(np.array(history.history['val_loss']))\n",
    "plt.xlabel(\"Epochs\")\n",
    "plt.ylabel(\"Loss\")\n",
    "plt.ylim(ymax = 0.1, ymin = 0.0)\n",
    "plt.legend([\"Training\", \"Validation\"])\n",
    "plt.show()"
   ]
  },
  {
   "cell_type": "markdown",
   "metadata": {
    "id": "nP8frDRMVDPx"
   },
   "source": [
    "## Testing on test data"
   ]
  },
  {
   "cell_type": "code",
   "execution_count": null,
   "metadata": {},
   "outputs": [],
   "source": [
    "imgNum = 128\n",
    "img = loadImageTensor(getUnwrappedImagePath(imgNum))\n",
    "a = model.predict(valDs)[0]"
   ]
  },
  {
   "cell_type": "code",
   "execution_count": null,
   "metadata": {},
   "outputs": [],
   "source": [
    "np.argmax(a, axis = 2)"
   ]
  },
  {
   "cell_type": "code",
   "execution_count": null,
   "metadata": {},
   "outputs": [],
   "source": []
  }
 ],
 "metadata": {
  "accelerator": "GPU",
  "colab": {
   "collapsed_sections": [],
   "name": "ChessR network",
   "provenance": []
  },
  "kernelspec": {
   "display_name": "Python 3 (ipykernel)",
   "language": "python",
   "name": "python3"
  },
  "language_info": {
   "codemirror_mode": {
    "name": "ipython",
    "version": 3
   },
   "file_extension": ".py",
   "mimetype": "text/x-python",
   "name": "python",
   "nbconvert_exporter": "python",
   "pygments_lexer": "ipython3",
   "version": "3.8.10"
  }
 },
 "nbformat": 4,
 "nbformat_minor": 1
}
